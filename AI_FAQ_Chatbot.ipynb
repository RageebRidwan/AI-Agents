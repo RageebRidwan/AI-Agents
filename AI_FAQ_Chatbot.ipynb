{
  "nbformat": 4,
  "nbformat_minor": 0,
  "metadata": {
    "colab": {
      "provenance": []
    },
    "kernelspec": {
      "name": "python3",
      "display_name": "Python 3"
    },
    "language_info": {
      "name": "python"
    }
  },
  "cells": [
    {
      "cell_type": "code",
      "execution_count": null,
      "metadata": {
        "id": "waFklFozpwGx"
      },
      "outputs": [],
      "source": [
        "!pip install openai langchain langchain-community langchain-core langchain_groq"
      ]
    },
    {
      "cell_type": "code",
      "source": [
        "from google.colab import userdata\n",
        "userdata.get('groq-apikey')"
      ],
      "metadata": {
        "id": "3djsATpGqGsx"
      },
      "execution_count": null,
      "outputs": []
    },
    {
      "cell_type": "code",
      "source": [
        "import openai\n",
        "from langchain.prompts import PromptTemplate\n",
        "from langchain_groq import ChatGroq\n",
        "from langchain.chains import LLMChain\n",
        "import os\n",
        "\n",
        "os.environ['GROQ_API_KEY'] = userdata.get('groq-apikey')\n",
        "\n",
        "faq_data = [\n",
        "    {\n",
        "        \"question\": \"What is artificial intelligence?\",\n",
        "        \"answer\": \"Artificial intelligence (AI) refers to the simulation of human intelligence in machines that are programmed to think and learn like humans.\"\n",
        "    },\n",
        "    {\n",
        "        \"question\": \"How is machine learning different from AI?\",\n",
        "        \"answer\": \"Machine learning is a subset of AI that focuses on the ability of machines to learn from data and improve over time without being explicitly programmed.\"\n",
        "    },\n",
        "    {\n",
        "        \"question\": \"What are some common applications of AI?\",\n",
        "        \"answer\": \"Common applications include virtual assistants, recommendation systems, fraud detection, autonomous vehicles, and language translation.\"\n",
        "    },\n",
        "    {\n",
        "        \"question\": \"What is natural language processing (NLP)?\",\n",
        "        \"answer\": \"NLP is a field of AI that enables computers to understand, interpret, and generate human language.\"\n",
        "    },\n",
        "    {\n",
        "        \"question\": \"Is AI safe to use?\",\n",
        "        \"answer\": \"Yes, when developed and monitored responsibly, AI can be safe and beneficial. However, ethical considerations and safeguards are crucial to prevent misuse.\"\n",
        "    },\n",
        "    {\n",
        "        \"question\": \"Can AI replace human jobs?\",\n",
        "        \"answer\": \"AI can automate repetitive tasks, which may replace some jobs, but it also creates new opportunities in tech, data analysis, and AI supervision.\"\n",
        "    },\n",
        "    {\n",
        "        \"question\": \"How does an AI chatbot work?\",\n",
        "        \"answer\": \"An AI chatbot uses natural language processing and machine learning to understand user input and respond with relevant answers based on trained data.\"\n",
        "    },\n",
        "    {\n",
        "        \"question\": \"What is the difference between a rule-based chatbot and an AI chatbot?\",\n",
        "        \"answer\": \"A rule-based chatbot follows predefined rules and keywords, while an AI chatbot can understand context and generate dynamic responses.\"\n",
        "    }\n",
        "]\n",
        "\n",
        "\n",
        "chat_model = ChatGroq(model=\"llama3-8b-8192\", temperature=0.7)\n",
        "\n",
        "prompt_template = PromptTemplate(\n",
        "    input_variables=[\"question\"],\n",
        "    template=\"You are an AI FAQ chatbot. Answer this question based on this FAQ data:{faq_data}\\n Question: {question}\"\n",
        ")\n",
        "\n",
        "faq_chain = LLMChain(\n",
        "    prompt=prompt_template,\n",
        "    llm=chat_model\n",
        ")\n",
        "\n",
        "def faq_chatbot():\n",
        "    print(\"🤖 Welcome to the AI FAQ Chatbot! Ask me anything about AI and how it can help. Type 'exit' anytime to end the chat.\")\n",
        "    while True:\n",
        "      user_input = input(\"\\n🧑 You: \")\n",
        "\n",
        "      if user_input.strip().lower() == \"exit\":\n",
        "          print(\"\\n🤖 Bot: It was nice chatting with you! Goodbye 👋\")\n",
        "          break\n",
        "\n",
        "      try:\n",
        "          response = faq_chain.run({\n",
        "              \"question\":user_input,\n",
        "              \"faq_data\": faq_data\n",
        "          })\n",
        "\n",
        "          print(f\"\\n🤖 Bot: {response}\")\n",
        "\n",
        "      except Exception as e:\n",
        "          print(\"\\n⚠️ Bot: Oops! Something went wrong while processing your question.\")\n",
        "          print(f\"Error: {e}\")\n",
        "\n",
        "if __name__ == \"__main__\":\n",
        "    faq_chatbot()\n",
        "\n"
      ],
      "metadata": {
        "colab": {
          "base_uri": "https://localhost:8080/"
        },
        "id": "Iy-ieR0WqQO1",
        "outputId": "55b91695-dcdd-4156-e680-c7961a701bb3"
      },
      "execution_count": 14,
      "outputs": [
        {
          "output_type": "stream",
          "name": "stdout",
          "text": [
            "🤖 Welcome to the AI FAQ Chatbot! Ask me anything about AI and how it can help. Type 'exit' anytime to end the chat.\n",
            "\n",
            "🧑 You: What is AI?\n",
            "\n",
            "🤖 Bot: According to our FAQ data, Artificial intelligence (AI) refers to the simulation of human intelligence in machines that are programmed to think and learn like humans.\n",
            "\n",
            "🧑 You: Can AI take over human jobs in the future?\n",
            "\n",
            "🤖 Bot: According to our FAQ data, AI can automate repetitive tasks, which may replace some jobs, but it also creates new opportunities in tech, data analysis, and AI supervision.\n",
            "\n",
            "🧑 You: Tell me the difference between rule-based and AI chatbots\n",
            "\n",
            "🤖 Bot: According to our FAQ data, the difference between a rule-based chatbot and an AI chatbot is that:\n",
            "\n",
            "\"A rule-based chatbot follows predefined rules and keywords, while an AI chatbot can understand context and generate dynamic responses.\"\n",
            "\n",
            "In other words, a rule-based chatbot relies on strict programming and pre-defined rules to respond to user input, whereas an AI chatbot uses natural language processing and machine learning to understand the context and generate more personalized and dynamic responses.\n",
            "\n",
            "🧑 You: What are the top uses of artificial intelligence?\n",
            "\n",
            "🤖 Bot: According to our FAQ data, some common applications of Artificial Intelligence (AI) include:\n",
            "\n",
            "* Virtual assistants\n",
            "* Recommendation systems\n",
            "* Fraud detection\n",
            "* Autonomous vehicles\n",
            "* Language translation\n",
            "\n",
            "These are just a few examples of the many ways AI is being used to make our lives easier, more efficient, and more enjoyable!\n",
            "\n",
            "🧑 You: What’s the meaning of life?\n",
            "\n",
            "🤖 Bot: I'm afraid that's not a topic covered in my FAQ data! My purpose is to provide answers to questions related to artificial intelligence, and I don't have any information on the meaning of life. If you'd like, I can try to provide some general philosophical insights or point you in the direction of some relevant resources. However, I won't be able to provide a definitive answer to this question.\n",
            "\n",
            "🧑 You: exit\n",
            "\n",
            "🤖 Bot: It was nice chatting with you! Goodbye 👋\n"
          ]
        }
      ]
    }
  ]
}