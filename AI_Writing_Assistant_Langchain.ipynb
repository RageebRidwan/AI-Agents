{
  "cells": [
    {
      "cell_type": "code",
      "execution_count": null,
      "metadata": {
        "colab": {
          "base_uri": "https://localhost:8080/"
        },
        "id": "OvEyLgwMdfju",
        "outputId": "a3359364-580a-42a4-fbf9-b96dba25e355"
      },
      "outputs": [],
      "source": [
        "!pip install langchain langchainhub transformers sentencepiece huggingface_hub"
      ]
    },
    {
      "cell_type": "code",
      "execution_count": null,
      "metadata": {
        "colab": {
          "base_uri": "https://localhost:8080/"
        },
        "id": "isT_7flrehyc",
        "outputId": "66677795-7b5f-4d7a-fe36-cd02742b3372"
      },
      "outputs": [],
      "source": [
        "!pip install accelerate"
      ]
    },
    {
      "cell_type": "code",
      "execution_count": null,
      "metadata": {
        "colab": {
          "base_uri": "https://localhost:8080/"
        },
        "id": "XxCzVmWPgio6",
        "outputId": "27526653-098d-4c2d-9e44-8aed25bae322"
      },
      "outputs": [],
      "source": [
        "!pip install langchain-huggingface\n",
        "!pip install langchain-community langchain-core"
      ]
    },
    {
      "cell_type": "code",
      "execution_count": null,
      "metadata": {
        "colab": {
          "base_uri": "https://localhost:8080/"
        },
        "id": "VZ2iXhOxrDR5",
        "outputId": "8f8e6a6e-cad7-43bc-f3e7-0902b715263f"
      },
      "outputs": [],
      "source": [
        "!pip install --upgrade langchain huggingface_hub"
      ]
    },
    {
      "cell_type": "code",
      "execution_count": null,
      "metadata": {
        "colab": {
          "base_uri": "https://localhost:8080/"
        },
        "id": "9Kr_SfMb1d8f",
        "outputId": "67e7c4df-f7a5-46ec-840a-20c90d88ba06"
      },
      "outputs": [],
      "source": [
        "!pip install langchain_groq"
      ]
    },
    {
      "cell_type": "code",
      "execution_count": null,
      "metadata": {
        "colab": {
          "base_uri": "https://localhost:8080/"
        },
        "id": "LB9TAtj2e9mQ",
        "outputId": "97547c24-aa8a-4c02-dc04-abad46841241"
      },
      "outputs": [
        {
          "name": "stdout",
          "output_type": "stream",
          "text": [
            "👋 Hey! I'm your writing assistant. Ask me anything related to writing tips or text rewriting.\n",
            "Type 'exit' to quit.\n",
            "\n",
            "You: rewrite this text \"i love cake\" in bangla\n",
            "❌ I can only assist with writing tips (like 'thesis', 'cohesion', or 'clarity') or rewrite text in another language (e.g., 'Arabic', 'Spanish', etc.). Please make sure your query matches one of these topics.\n",
            "You: rewrite this text \"i love cake\" in bengali\n",
            "\n",
            "\n",
            "\u001b[1m> Entering new AgentExecutor chain...\u001b[0m\n",
            "\u001b[32;1m\u001b[1;3mThought: Do I need to use a tool? Yes\n",
            "Action: text_rewrite_multilingual\n",
            "Action Input: \"i love cake\", Bengali\u001b[0m\n",
            "Observation: \u001b[33;1m\u001b[1;3m✅ Please translate the following text into Bengali:\n",
            "i love cake\", Bengali\u001b[0m\n",
            "Thought:\u001b[32;1m\u001b[1;3mThought: Do I need to use a tool? No\n",
            "AI: আমি কেকটি ভাল করি (I love cake)\u001b[0m\n",
            "\n",
            "\u001b[1m> Finished chain.\u001b[0m\n",
            "Assistant: আমি কেকটি ভাল করি (I love cake)\n",
            "\n",
            "You: give me a writing tip on thesis \n",
            "\n",
            "\n",
            "\u001b[1m> Entering new AgentExecutor chain...\u001b[0m\n",
            "\u001b[32;1m\u001b[1;3mThought: Do I need to use a tool? Yes\n",
            "Action: get_writing_tip\n",
            "Action Input: thesis\u001b[0m\n",
            "Observation: \u001b[36;1m\u001b[1;3mA thesis statement should clearly express the main idea of your paper in one sentence.\u001b[0m\n",
            "Thought:\u001b[32;1m\u001b[1;3mAction: AI\n",
            "AI: A thesis statement should clearly express the main idea of your paper in one sentence. This sentence will serve as the foundation of your entire paper, guiding the development of your arguments and evidence. When crafting your thesis, make sure it is specific, focused, and arguable.\u001b[0m\n",
            "\n",
            "\u001b[1m> Finished chain.\u001b[0m\n",
            "Assistant: A thesis statement should clearly express the main idea of your paper in one sentence. This sentence will serve as the foundation of your entire paper, guiding the development of your arguments and evidence. When crafting your thesis, make sure it is specific, focused, and arguable.\n",
            "\n",
            "You: give me a reading tip\n",
            "❌ I can only assist with writing tips (like 'thesis', 'cohesion', or 'clarity') or rewrite text in another language (e.g., 'Arabic', 'Spanish', etc.). Please make sure your query matches one of these topics.\n",
            "You: bye \n",
            "❌ I can only assist with writing tips (like 'thesis', 'cohesion', or 'clarity') or rewrite text in another language (e.g., 'Arabic', 'Spanish', etc.). Please make sure your query matches one of these topics.\n",
            "You: exit\n",
            "👋 Goodbye!\n"
          ]
        }
      ],
      "source": [
        "from langchain.agents import initialize_agent, Tool, AgentType\n",
        "from langchain_groq import ChatGroq\n",
        "from langchain.tools import tool\n",
        "from langchain.memory import ConversationBufferMemory\n",
        "import os\n",
        "\n",
        "# For Google Colab environment\n",
        "from google.colab import userdata\n",
        "os.environ[\"GROQ_API_KEY\"] = userdata.get('groq-apikey')\n",
        "\n",
        "# Mock database for writing tips\n",
        "writing_tips = {\n",
        "    \"thesis\": \"A thesis statement should clearly express the main idea of your paper in one sentence.\",\n",
        "    \"cohesion\": \"Use transition words like 'however', 'therefore', and 'moreover' to maintain flow between paragraphs.\",\n",
        "    \"introduction\": \"An introduction should provide background information and introduce the main argument or purpose of the paper.\",\n",
        "    \"conclusion\": \"A conclusion should summarize the key points discussed and restate the thesis in light of the evidence presented.\",\n",
        "    \"clarity\": \"Write clearly and concisely, avoiding unnecessary jargon or complex sentences that might confuse the reader.\",\n",
        "    \"evidence\": \"Support your claims with credible sources and data, ensuring that each piece of evidence is relevant to your argument.\",\n",
        "    \"audience\": \"Consider your audience’s knowledge and expectations when writing, adjusting your tone and language accordingly.\",\n",
        "    \"citation\": \"Properly cite all your sources using the appropriate citation style (APA, MLA, Chicago, etc.) to avoid plagiarism.\",\n",
        "    \"structure\": \"Ensure that your paper has a clear and logical structure, with well-organized paragraphs that each focus on a single idea.\",\n",
        "    \"editing\": \"Always edit your paper for grammar, punctuation, and spelling errors. A well-polished paper leaves a strong impression.\",\n",
        "    \"revision\": \"Revise your paper after feedback, making improvements to both the content and structure based on the reviewer’s comments.\"\n",
        "}\n",
        "\n",
        "\n",
        "# List of supported languages for rewrite tool\n",
        "possible_languages = [\n",
        "    \"english\", \"spanish\", \"german\",\n",
        "    \"hindi\", \"bengali\", \"chinese\", \"japanese\", \"korean\",\n",
        "    \"urdu\", \"portuguese\", \"italian\", \"russian\"\n",
        "]\n",
        "\n",
        "@tool\n",
        "def get_writing_tips(query: str) -> str:\n",
        "    \"\"\"Extracts a topic from the user query and returns a writing tip from the knowledge base.\"\"\"\n",
        "    keywords = writing_tips.keys()\n",
        "    query_lower = query.strip().lower()\n",
        "\n",
        "    for key in keywords:\n",
        "        if key in query_lower:\n",
        "            return writing_tips[key]\n",
        "\n",
        "    return \"❌ Sorry, I couldn't find any tip related to your query in our database.\"\n",
        "\n",
        "@tool\n",
        "def text_rewrite_multilingual(query: str) -> str:\n",
        "    \"\"\"Prompt the LLM to translate the given text to the specified language if found in the query.\"\"\"\n",
        "    global possible_languages\n",
        "    lower_query = query.lower()\n",
        "\n",
        "    # Strip the language from the query to prevent repetition\n",
        "    for lang in possible_languages:\n",
        "        if lang in lower_query:\n",
        "            # Extract the text by removing the language part from the query\n",
        "            query_text = query.replace(lang, '').strip()\n",
        "\n",
        "            # Return the translation prompt without extra language info\n",
        "            return f\"✅ Please translate the following text into {lang.capitalize()}:\\n{query_text}\"\n",
        "\n",
        "\n",
        "# LLM setup\n",
        "llm = ChatGroq(model=\"llama3-8b-8192\", temperature=0.7)\n",
        "\n",
        "# Tool setup\n",
        "tools = [\n",
        "    Tool.from_function(\n",
        "        func=get_writing_tips,\n",
        "        name=\"get_writing_tip\",\n",
        "        description=\"Useful for retrieving writing tips about structure, thesis, or cohesion.\"\n",
        "    ),\n",
        "    Tool.from_function(\n",
        "        func=text_rewrite_multilingual,\n",
        "        name=\"text_rewrite_multilingual\",\n",
        "        description=\"Useful for rewriting text in another language like Arabic, Spanish, etc.\"\n",
        "    )\n",
        "]\n",
        "\n",
        "# Memory for chat\n",
        "memory = ConversationBufferMemory(memory_key=\"chat_history\", return_messages=True)\n",
        "\n",
        "# Initialize the agent\n",
        "agent = initialize_agent(\n",
        "    tools=tools,\n",
        "    llm=llm,\n",
        "    agent=AgentType.CONVERSATIONAL_REACT_DESCRIPTION,\n",
        "    memory=memory,\n",
        "    verbose=True,\n",
        ")\n",
        "\n",
        "# Interactive chat loop\n",
        "print(\"👋 Hey! I'm your writing assistant. Ask me anything related to writing tips or text rewriting.\\nType 'exit' to quit.\\n\")\n",
        "\n",
        "while True:\n",
        "    query = input(\"You: \")\n",
        "    if query.lower() in [\"exit\", \"quit\"]:\n",
        "        print(\"👋 Goodbye!\")\n",
        "        break\n",
        "\n",
        "    # Filter out unrelated queries\n",
        "    if not any(k in query.lower() for k in writing_tips.keys()) and not any(lang in query.lower() for lang in possible_languages):\n",
        "        print(\"❌ I can only assist with writing tips (like 'thesis', 'cohesion', or 'clarity') or rewrite text in another language (e.g., 'Arabic', 'Spanish', etc.). Please make sure your query matches one of these topics.\")\n",
        "\n",
        "        continue\n",
        "\n",
        "    try:\n",
        "        response = agent.run(f\"You are a friendly writing assistant. Only use tools when necessary. \\\n",
        "Only use the `get_writing_tip` tool if a topic matches the keys in the writing_tips dict. \\\n",
        "Only use `text_rewrite_multilingual` to rewrite text in a language specified in the input. \\\n",
        "Never guess or generate content on your own. User's input: {query}\")\n",
        "        print(f\"Assistant: {response}\\n\")\n",
        "    except Exception as e:\n",
        "        print(f\"⚠️ Error: {e}\")\n"
      ]
    },
    {
      "cell_type": "code",
      "execution_count": null,
      "metadata": {
        "id": "uXJAijS8o4ND"
      },
      "outputs": [],
      "source": []
    },
    {
      "cell_type": "code",
      "execution_count": null,
      "metadata": {
        "id": "Bptt0Y0k-Vy8"
      },
      "outputs": [],
      "source": []
    }
  ],
  "metadata": {
    "colab": {
      "provenance": []
    },
    "kernelspec": {
      "display_name": "Python 3",
      "name": "python3"
    },
    "language_info": {
      "name": "python"
    }
  },
  "nbformat": 4,
  "nbformat_minor": 0
}
